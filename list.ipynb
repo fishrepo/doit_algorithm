{
 "cells": [
  {
   "cell_type": "code",
   "execution_count": 127,
   "metadata": {},
   "outputs": [],
   "source": [
    "\n",
    "import collections\n",
    "import heapq\n",
    "import functools\n",
    "import itertools\n",
    "import re\n",
    "import sys\n",
    "import math\n",
    "import bisect\n",
    "from typing import *\n",
    "\n",
    "class ListNode:\n",
    "    def __init__(self, val=0, next=None):\n",
    "        self.val = val \n",
    "        self.next = next\n",
    "        \n",
    "\n",
    "        \n",
    "def initLinkedList(values):\n",
    "    head = ListNode()\n",
    "\n",
    "    curr = head\n",
    "    \n",
    "    print('head.next',head.next)\n",
    "\n",
    " \n",
    "    \n",
    "    for val in values:\n",
    "        \n",
    "        print(val,'curr',curr)\n",
    "        \n",
    "        \n",
    "        curr.next = ListNode(val)\n",
    "        print(val,'curr.next = ListNode(val)',curr.next)\n",
    "        curr = curr.next\n",
    "        print(val,'curr = curr.next',curr)\n",
    "        \n",
    "        \n",
    "        print(val,'curr next ',curr.next)\n",
    "        print()\n",
    "        \n",
    "  \n",
    "    # print(head.next)\n",
    "    return head.next"
   ]
  },
  {
   "cell_type": "code",
   "execution_count": 128,
   "metadata": {},
   "outputs": [],
   "source": [
    "def isPalindrome(head : ListNode) -> bool:\n",
    "    q: List = []\n",
    "    \n",
    "    if not head:\n",
    "        return True\n",
    "    \n",
    "    node = head\n",
    "    \n",
    "    \n",
    "    \n",
    "    while node is not None:\n",
    "        q.append(node.val)\n",
    "        node = node.next\n",
    "        \n",
    "    while len(q) > 1:\n",
    "        if q.pop(0) != q.pop():\n",
    "            return False\n",
    "    \n",
    "    return True\n"
   ]
  },
  {
   "cell_type": "code",
   "execution_count": 129,
   "metadata": {},
   "outputs": [
    {
     "name": "stdout",
     "output_type": "stream",
     "text": [
      "head.next None\n",
      "1 curr <__main__.ListNode object at 0x000002C6292421F0>\n",
      "1 curr.next = ListNode(val) <__main__.ListNode object at 0x000002C629242700>\n",
      "1 curr = curr.next <__main__.ListNode object at 0x000002C629242700>\n",
      "1 curr next  None\n",
      "\n",
      "2 curr <__main__.ListNode object at 0x000002C629242700>\n",
      "2 curr.next = ListNode(val) <__main__.ListNode object at 0x000002C629242520>\n",
      "2 curr = curr.next <__main__.ListNode object at 0x000002C629242520>\n",
      "2 curr next  None\n",
      "\n",
      "2 curr <__main__.ListNode object at 0x000002C629242520>\n",
      "2 curr.next = ListNode(val) <__main__.ListNode object at 0x000002C629128100>\n",
      "2 curr = curr.next <__main__.ListNode object at 0x000002C629128100>\n",
      "2 curr next  None\n",
      "\n",
      "1 curr <__main__.ListNode object at 0x000002C629128100>\n",
      "1 curr.next = ListNode(val) <__main__.ListNode object at 0x000002C6291A7370>\n",
      "1 curr = curr.next <__main__.ListNode object at 0x000002C6291A7370>\n",
      "1 curr next  None\n",
      "\n"
     ]
    },
    {
     "data": {
      "text/plain": [
       "True"
      ]
     },
     "execution_count": 129,
     "metadata": {},
     "output_type": "execute_result"
    }
   ],
   "source": [
    "head = initLinkedList([1,2,2,1])\n",
    "\n",
    "isPalindrome(head)"
   ]
  },
  {
   "cell_type": "code",
   "execution_count": null,
   "metadata": {},
   "outputs": [],
   "source": []
  },
  {
   "cell_type": "markdown",
   "metadata": {},
   "source": []
  },
  {
   "cell_type": "code",
   "execution_count": null,
   "metadata": {},
   "outputs": [],
   "source": []
  }
 ],
 "metadata": {
  "kernelspec": {
   "display_name": "Python 3",
   "language": "python",
   "name": "python3"
  },
  "language_info": {
   "codemirror_mode": {
    "name": "ipython",
    "version": 3
   },
   "file_extension": ".py",
   "mimetype": "text/x-python",
   "name": "python",
   "nbconvert_exporter": "python",
   "pygments_lexer": "ipython3",
   "version": "3.9.13"
  },
  "orig_nbformat": 4
 },
 "nbformat": 4,
 "nbformat_minor": 2
}
